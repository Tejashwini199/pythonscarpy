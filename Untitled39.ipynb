{
  "nbformat": 4,
  "nbformat_minor": 0,
  "metadata": {
    "colab": {
      "name": "Untitled39.ipynb",
      "provenance": [],
      "collapsed_sections": []
    },
    "kernelspec": {
      "name": "python3",
      "display_name": "Python 3"
    },
    "language_info": {
      "name": "python"
    }
  },
  "cells": [
    {
      "cell_type": "code",
      "metadata": {
        "id": "SotPipIx5-jS"
      },
      "source": [
        "import scrapy\n",
        "\n",
        "\n",
        "class DesignerCrawlerSpider(scrapy.Spider):\n",
        "    name = 'Designer_Crawler'\n",
        "    allowed_domains = ['houseofindya.com']\n",
        "    start_urls = ['https://www.houseofindya.com/']\n",
        "\n",
        "    def parse(self, response):\n",
        "        pass"
      ],
      "execution_count": null,
      "outputs": []
    },
    {
      "cell_type": "code",
      "metadata": {
        "id": "TBRPG5KV9nKK"
      },
      "source": [
        "def parse(self, response):\n",
        "      \"\"\"Function to read keywords from keywords file\"\"\"\n",
        "      keywords = csv.DictReader(open(os.path.join(os.path.dirname(__file__),\"../resources/keywords.csv\")))\n",
        "      \n",
        "      for keyword in keywords:\n",
        "          search_text = keyword[\"keyword\"]\n",
        "          url = \"https://www.houseofindya.com/\".format(search_text)\n",
        "          yield scrapy.Request(url, callback=self.parse_listing, meta={\"search_text\":search_text})"
      ],
      "execution_count": null,
      "outputs": []
    },
    {
      "cell_type": "code",
      "metadata": {
        "id": "RqAElUwi-qiN"
      },
      "source": [
        "#Export Product Data into JSON or CSV using Scrapy\n",
        "scrapy crawl Designer_crawler -o Designer.csv -t csv\n",
        "scrapy crawl Designer_crawler -o Designer.csv -t json"
      ],
      "execution_count": null,
      "outputs": []
    },
    {
      "cell_type": "code",
      "metadata": {
        "id": "BNCjgPrX_CL0"
      },
      "source": [
        ""
      ],
      "execution_count": null,
      "outputs": []
    },
    {
      "cell_type": "code",
      "metadata": {
        "id": "WFfiOdqY_cZS"
      },
      "source": [
        ""
      ],
      "execution_count": null,
      "outputs": []
    }
  ]
}